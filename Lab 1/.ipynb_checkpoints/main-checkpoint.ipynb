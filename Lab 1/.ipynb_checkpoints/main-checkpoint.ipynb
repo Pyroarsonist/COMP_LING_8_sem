{
 "cells": [
  {
   "cell_type": "code",
   "execution_count": 81,
   "metadata": {
    "pycharm": {
     "name": "#%%\n"
    }
   },
   "outputs": [],
   "source": [
    "# helper functions\n",
    "\n",
    "def intersection(lst1, lst2):\n",
    "    return list(set(lst1) & set(lst2))\n"
   ]
  },
  {
   "cell_type": "code",
   "execution_count": 82,
   "metadata": {
    "pycharm": {
     "name": "#%%\n"
    }
   },
   "outputs": [],
   "source": [
    "import csv\n",
    "\n",
    "authors = []\n",
    "\n",
    "path = './samples/authors.csv'\n",
    "f = open(path, 'r')\n",
    "reader = csv.reader(f, skipinitialspace=True)\n",
    "for row in reader:\n",
    "    authors.append( {\n",
    "        \"author\": row[0],\n",
    "        \"composition\": row[1],\n",
    "        \"file\": row[2],\n",
    "    })"
   ]
  },
  {
   "cell_type": "code",
   "execution_count": 83,
   "metadata": {
    "pycharm": {
     "name": "#%%\n"
    }
   },
   "outputs": [
    {
     "name": "stdout",
     "output_type": "stream",
     "text": [
      "Files to read:\n",
      "vn-cho.txt\n",
      "nl-ks.txt\n",
      "nl-md.txt\n",
      "vn-ksz.txt\n",
      "nl-mb.txt\n",
      "vn-tzv.txt\n"
     ]
    }
   ],
   "source": [
    "import os\n",
    "import glob\n",
    "path = './samples'\n",
    "print('Files to read:')\n",
    "files=[]\n",
    "for filename in glob.glob(os.path.join(path, '*.txt')):\n",
    "   with open(os.path.join(os.getcwd(), filename), 'r') as f:\n",
    "       print(os.path.basename(f.name))\n",
    "       files.append(f)"
   ]
  },
  {
   "cell_type": "code",
   "execution_count": 84,
   "metadata": {
    "pycharm": {
     "name": "#%%\n"
    }
   },
   "outputs": [],
   "source": [
    "total_letters = {}\n",
    "\n",
    "for _f in files:\n",
    "    f = open(_f.name,'r')\n",
    "    name = os.path.basename(f.name)\n",
    "    total_letters[name]= len(f.read())\n",
    "# print(total_letters)"
   ]
  },
  {
   "cell_type": "code",
   "execution_count": 85,
   "metadata": {
    "pycharm": {
     "name": "#%%\n"
    }
   },
   "outputs": [
    {
     "name": "stdout",
     "output_type": "stream",
     "text": [
      "done vn-cho.txt\n",
      "done nl-ks.txt\n",
      "done nl-md.txt\n",
      "done vn-ksz.txt\n",
      "done nl-mb.txt\n",
      "done vn-tzv.txt\n",
      "6\n"
     ]
    }
   ],
   "source": [
    "total_ngrams = {}\n",
    "\n",
    "def is_bad_ngram(ngram):\n",
    "    return not ngram.isalpha()\n",
    "    # black_list = [\"\\n\",\"\\r\",\" \" ,\".\",\",\",\"(\",\")\",\"\\\\\",\"/\",'\"',\"!\",\"...\",\"?\",\";\"]\n",
    "    # return len(intersection(black_list, ngram))!=0\n",
    "\n",
    "def count_ngrams(f_name, text, n):\n",
    "    ngrams = []\n",
    "    for i in range(len(text)-n+1):\n",
    "        letters = text[i:i+n].lower()\n",
    "        ngram = next(filter(lambda x: x['name']==letters, ngrams), None)\n",
    "        created = ngram is None\n",
    "        if created:\n",
    "            if is_bad_ngram(letters):\n",
    "                continue\n",
    "            ngram = {\"name\": letters, \"count\": 0}\n",
    "        ngram['count']+=1\n",
    "        if created:\n",
    "            ngrams.append(ngram)\n",
    "    ngrams.sort(key=lambda x:x.get('count'), reverse=True)\n",
    "    total_ngrams[f_name] = ngrams\n",
    "\n",
    "\n",
    "for _f in files:\n",
    "    f = open(_f.name,'r')\n",
    "    name = os.path.basename(f.name)\n",
    "    file_text = f.read()\n",
    "    count_ngrams(name, file_text,1)\n",
    "    count_ngrams(name, file_text,2)\n",
    "    print(f'done {name}')\n",
    "\n",
    "print(len(total_ngrams))"
   ]
  },
  {
   "cell_type": "code",
   "execution_count": 86,
   "metadata": {
    "pycharm": {
     "name": "#%%\n"
    }
   },
   "outputs": [
    {
     "name": "stdout",
     "output_type": "stream",
     "text": [
      "Total letters:\n"
     ]
    },
    {
     "data": {
      "text/html": [
       "<table border=\"1\" class=\"dataframe table table-striped\">\n",
       "  <thead>\n",
       "    <tr style=\"text-align: right;\">\n",
       "      <th></th>\n",
       "      <th>Автор</th>\n",
       "      <th>Твір</th>\n",
       "      <th>Файл</th>\n",
       "      <th>Кількість символів</th>\n",
       "    </tr>\n",
       "  </thead>\n",
       "  <tbody>\n",
       "    <tr>\n",
       "      <th>0</th>\n",
       "      <td>Іван Нечуй-Левицький</td>\n",
       "      <td>Кайдашева сім'я</td>\n",
       "      <td>nl-ks.txt</td>\n",
       "      <td>267855</td>\n",
       "    </tr>\n",
       "    <tr>\n",
       "      <th>1</th>\n",
       "      <td>Іван Нечуй-Левицький</td>\n",
       "      <td>Маруся Богуславка</td>\n",
       "      <td>nl-mb.txt</td>\n",
       "      <td>71132</td>\n",
       "    </tr>\n",
       "    <tr>\n",
       "      <th>2</th>\n",
       "      <td>Іван Нечуй-Левицький</td>\n",
       "      <td>Микола Джеря</td>\n",
       "      <td>nl-md.txt</td>\n",
       "      <td>226209</td>\n",
       "    </tr>\n",
       "    <tr>\n",
       "      <th>3</th>\n",
       "      <td>Всеволод Нестайко</td>\n",
       "      <td>Чарівні окуляри</td>\n",
       "      <td>vn-cho.txt</td>\n",
       "      <td>137598</td>\n",
       "    </tr>\n",
       "    <tr>\n",
       "      <th>4</th>\n",
       "      <td>Всеволод Нестайко</td>\n",
       "      <td>В Країні Сонячних Зайчиків</td>\n",
       "      <td>vn-ksz.txt</td>\n",
       "      <td>263805</td>\n",
       "    </tr>\n",
       "    <tr>\n",
       "      <th>5</th>\n",
       "      <td>Всеволод Нестайко</td>\n",
       "      <td>Тореадори з Васюківки</td>\n",
       "      <td>vn-tzv.txt</td>\n",
       "      <td>843057</td>\n",
       "    </tr>\n",
       "  </tbody>\n",
       "</table>"
      ],
      "text/plain": [
       "<IPython.core.display.HTML object>"
      ]
     },
     "execution_count": 86,
     "metadata": {},
     "output_type": "execute_result"
    }
   ],
   "source": [
    "import pprint\n",
    "print('Total letters:')\n",
    "# pprint.pprint(total_letters)\n",
    "\n",
    "import pandas as pd\n",
    "from IPython.display import display, HTML\n",
    "\n",
    "authors_with_total_letters =  authors.copy()\n",
    "for file in total_letters:\n",
    "    a = next(filter(lambda x: x['file']==file, authors_with_total_letters), None)\n",
    "    if a is None:\n",
    "        continue\n",
    "    a[\"total_letters\"] = total_letters[file]\n",
    "\n",
    "df = pd.DataFrame(authors_with_total_letters)\n",
    "df.columns=['Автор', 'Твір','Файл', 'Кількість символів']\n",
    "# display(df)\n",
    "HTML(df.to_html(classes='table table-striped'))\n",
    "\n",
    "\n",
    "\n",
    "\n",
    "# print('N-grams:')\n",
    "# pprint.pprint(total_ngrams)"
   ]
  }
 ],
 "metadata": {
  "kernelspec": {
   "display_name": "Python 3",
   "language": "python",
   "name": "python3"
  },
  "language_info": {
   "codemirror_mode": {
    "name": "ipython",
    "version": 3
   },
   "file_extension": ".py",
   "mimetype": "text/x-python",
   "name": "python",
   "nbconvert_exporter": "python",
   "pygments_lexer": "ipython3",
   "version": "3.8.5"
  }
 },
 "nbformat": 4,
 "nbformat_minor": 1
}
